{
 "cells": [
  {
   "cell_type": "code",
   "execution_count": 56,
   "metadata": {},
   "outputs": [],
   "source": [
    "from keras.models import Sequential\n",
    "from keras.layers import Dense\n",
    "from keras.utils import np_utils"
   ]
  },
  {
   "cell_type": "code",
   "execution_count": 57,
   "metadata": {},
   "outputs": [],
   "source": [
    "import numpy as np\n",
    "import pandas as pd\n",
    "from sklearn.model_selection import train_test_split\n",
    "from sklearn.preprocessing import LabelEncoder\n",
    "import matplotlib.pyplot as plt\n",
    "from sklearn.metrics import confusion_matrix\n",
    "from keras.utils import plot_model"
   ]
  },
  {
   "cell_type": "code",
   "execution_count": 58,
   "metadata": {},
   "outputs": [],
   "source": [
    "seed = 9\n",
    "np.random.seed(seed)"
   ]
  },
  {
   "cell_type": "raw",
   "metadata": {},
   "source": [
    "#load datasets\n",
    "#csv files were filtered based on the data."
   ]
  },
  {
   "cell_type": "code",
   "execution_count": 59,
   "metadata": {},
   "outputs": [],
   "source": [
    "input_file = \"filtereddata.csv\"\n",
    "test_file = \"filtereddata.csv\""
   ]
  },
  {
   "cell_type": "code",
   "execution_count": 60,
   "metadata": {},
   "outputs": [],
   "source": [
    "dataset = pd.read_csv(input_file).values"
   ]
  },
  {
   "cell_type": "code",
   "execution_count": null,
   "metadata": {},
   "outputs": [],
   "source": [
    "#read training data"
   ]
  },
  {
   "cell_type": "code",
   "execution_count": 61,
   "metadata": {},
   "outputs": [],
   "source": [
    "datasetTest = pd.read_csv(test_file).values"
   ]
  },
  {
   "cell_type": "code",
   "execution_count": null,
   "metadata": {},
   "outputs": [],
   "source": [
    "#split into input (X) and output (Y) variables"
   ]
  },
  {
   "cell_type": "code",
   "execution_count": 62,
   "metadata": {},
   "outputs": [
    {
     "name": "stdout",
     "output_type": "stream",
     "text": [
      "dim of X:   2 , shape :  (63167, 8)\n",
      "dim of Y:   1 , shape :  (63167,)\n",
      "dim of XT:  2 , shape :  (63167, 8)\n"
     ]
    }
   ],
   "source": [
    "X = dataset[:,0:8].astype(\"int32\")\n",
    "Y = dataset[:,8]\n",
    "XT = datasetTest[:,0:8].astype(\"int32\")\n",
    "print(\"dim of X:  \",  X.ndim,   \", shape : \", X.shape)\n",
    "print(\"dim of Y:  \",  Y.ndim,   \", shape : \", Y.shape)\n",
    "print(\"dim of XT: \", XT.ndim,   \", shape : \", XT.shape)"
   ]
  },
  {
   "cell_type": "code",
   "execution_count": 63,
   "metadata": {},
   "outputs": [
    {
     "name": "stdout",
     "output_type": "stream",
     "text": [
      "[1, 2, 3]\n",
      "dim of encoded_Y:   1 , shape :  (63167,)\n",
      "encoded_Y =  [0 0 0 ... 2 2 2]\n"
     ]
    }
   ],
   "source": [
    "encoder = LabelEncoder()\n",
    "encoder.fit(Y)\n",
    "print(list(encoder.classes_))\n",
    "encoded_Y = encoder.transform(Y)\n",
    "print(\"dim of encoded_Y:  \",  encoded_Y.ndim,   \", shape : \", encoded_Y.shape)\n",
    "print(\"encoded_Y = \", encoded_Y)"
   ]
  },
  {
   "cell_type": "code",
   "execution_count": null,
   "metadata": {},
   "outputs": [],
   "source": [
    "#convert integers to dummy variables (i.e. one hot encoded)"
   ]
  },
  {
   "cell_type": "code",
   "execution_count": 39,
   "metadata": {},
   "outputs": [
    {
     "name": "stdout",
     "output_type": "stream",
     "text": [
      "dim of dummy_y:   2 , shape :  (63167, 3)\n",
      "dummy_y values:  [[1. 0. 0.]\n",
      " [1. 0. 0.]\n",
      " [1. 0. 0.]\n",
      " ...\n",
      " [0. 0. 1.]\n",
      " [0. 0. 1.]\n",
      " [0. 0. 1.]]\n"
     ]
    }
   ],
   "source": [
    "dummy_y = np_utils.to_categorical(encoded_Y)\n",
    "print(\"dim of dummy_y:  \", dummy_y.ndim,   \", shape : \", dummy_y.shape)\n",
    "print(\"dummy_y values: \", dummy_y)"
   ]
  },
  {
   "cell_type": "code",
   "execution_count": 10,
   "metadata": {},
   "outputs": [
    {
     "name": "stdout",
     "output_type": "stream",
     "text": [
      "Model: \"sequential_1\"\n",
      "_________________________________________________________________\n",
      "Layer (type)                 Output Shape              Param #   \n",
      "=================================================================\n",
      "dense_1 (Dense)              (None, 8)                 72        \n",
      "_________________________________________________________________\n",
      "dense_2 (Dense)              (None, 4)                 36        \n",
      "_________________________________________________________________\n",
      "dense_3 (Dense)              (None, 3)                 15        \n",
      "_________________________________________________________________\n",
      "dense_4 (Dense)              (None, 3)                 12        \n",
      "=================================================================\n",
      "Total params: 135\n",
      "Trainable params: 135\n",
      "Non-trainable params: 0\n",
      "_________________________________________________________________\n",
      "None\n"
     ]
    },
    {
     "name": "stderr",
     "output_type": "stream",
     "text": [
      "/Users/kalyan.subramanian/miniconda3/lib/python3.7/site-packages/ipykernel_launcher.py:5: UserWarning: Update your `Dense` call to the Keras 2 API: `Dense(8, input_dim=8, activation=\"relu\", kernel_initializer=\"normal\")`\n",
      "  \"\"\"\n",
      "/Users/kalyan.subramanian/miniconda3/lib/python3.7/site-packages/ipykernel_launcher.py:6: UserWarning: Update your `Dense` call to the Keras 2 API: `Dense(4, activation=\"relu\", kernel_initializer=\"normal\")`\n",
      "  \n",
      "/Users/kalyan.subramanian/miniconda3/lib/python3.7/site-packages/ipykernel_launcher.py:7: UserWarning: Update your `Dense` call to the Keras 2 API: `Dense(3, activation=\"tanh\", kernel_initializer=\"normal\")`\n",
      "  import sys\n",
      "/Users/kalyan.subramanian/miniconda3/lib/python3.7/site-packages/ipykernel_launcher.py:8: UserWarning: Update your `Dense` call to the Keras 2 API: `Dense(3, activation=\"softmax\", kernel_initializer=\"normal\")`\n",
      "  \n"
     ]
    }
   ],
   "source": [
    "(X_train, X_test, Y_train, Y_test) = train_test_split(X, dummy_y, test_size=0.001, random_state=seed)\n",
    "# create \"sequential\" - feed forward model with 4 layers, each with 8,4,3 and 3 neurons, \n",
    "# with a ReLU activation function for the first 2 layers, tanh for the third layer, softmax for output - indicates a probability distribution\n",
    "model = Sequential()\n",
    "model.add(Dense(8, input_dim=8, init='normal', activation='relu'))\n",
    "model.add(Dense(4, init='normal', activation='relu'))\n",
    "model.add(Dense(3, init='normal', activation='tanh'))\n",
    "model.add(Dense(3, init='normal', activation='softmax'))\n",
    "print(model.summary())\n",
    "# Compile model, 'adam' optimizer is the default \n",
    "model.compile(loss='categorical_crossentropy', optimizer='adam', metrics=['accuracy'])"
   ]
  },
  {
   "cell_type": "code",
   "execution_count": null,
   "metadata": {},
   "outputs": [],
   "source": [
    "#Fit the model"
   ]
  },
  {
   "cell_type": "code",
   "execution_count": 11,
   "metadata": {},
   "outputs": [
    {
     "name": "stdout",
     "output_type": "stream",
     "text": [
      "(63103, 8)\n",
      "(63103, 3)\n",
      "Before calling the fit() method on model ...\n",
      "Train on 44172 samples, validate on 18931 samples\n",
      "Epoch 1/16\n",
      "44172/44172 [==============================] - 1s 15us/step - loss: 0.7925 - accuracy: 0.6672 - val_loss: 0.5873 - val_accuracy: 0.7599\n",
      "Epoch 2/16\n",
      "44172/44172 [==============================] - 1s 11us/step - loss: 0.4528 - accuracy: 0.8051 - val_loss: 0.3568 - val_accuracy: 0.8816\n",
      "Epoch 3/16\n",
      "44172/44172 [==============================] - 0s 10us/step - loss: 0.3301 - accuracy: 0.8836 - val_loss: 0.2953 - val_accuracy: 0.8816\n",
      "Epoch 4/16\n",
      "44172/44172 [==============================] - 0s 10us/step - loss: 0.2529 - accuracy: 0.9184 - val_loss: 0.2109 - val_accuracy: 0.9396\n",
      "Epoch 5/16\n",
      "44172/44172 [==============================] - 0s 10us/step - loss: 0.1882 - accuracy: 0.9423 - val_loss: 0.1769 - val_accuracy: 0.9396\n",
      "Epoch 6/16\n",
      "44172/44172 [==============================] - 0s 10us/step - loss: 0.1676 - accuracy: 0.9423 - val_loss: 0.1657 - val_accuracy: 0.9396\n",
      "Epoch 7/16\n",
      "44172/44172 [==============================] - 1s 11us/step - loss: 0.1596 - accuracy: 0.9423 - val_loss: 0.1604 - val_accuracy: 0.9396\n",
      "Epoch 8/16\n",
      "44172/44172 [==============================] - 0s 11us/step - loss: 0.1554 - accuracy: 0.9423 - val_loss: 0.1575 - val_accuracy: 0.9396\n",
      "Epoch 9/16\n",
      "44172/44172 [==============================] - 1s 13us/step - loss: 0.1529 - accuracy: 0.9423 - val_loss: 0.1554 - val_accuracy: 0.9396\n",
      "Epoch 10/16\n",
      "44172/44172 [==============================] - 1s 13us/step - loss: 0.1513 - accuracy: 0.9423 - val_loss: 0.1541 - val_accuracy: 0.9396\n",
      "Epoch 11/16\n",
      "44172/44172 [==============================] - 0s 10us/step - loss: 0.1501 - accuracy: 0.9423 - val_loss: 0.1530 - val_accuracy: 0.9396\n",
      "Epoch 12/16\n",
      "44172/44172 [==============================] - 0s 11us/step - loss: 0.1493 - accuracy: 0.9423 - val_loss: 0.1524 - val_accuracy: 0.9396\n",
      "Epoch 13/16\n",
      "44172/44172 [==============================] - 0s 10us/step - loss: 0.1486 - accuracy: 0.9423 - val_loss: 0.1518 - val_accuracy: 0.9396\n",
      "Epoch 14/16\n",
      "44172/44172 [==============================] - 1s 11us/step - loss: 0.1481 - accuracy: 0.9423 - val_loss: 0.1516 - val_accuracy: 0.9396\n",
      "Epoch 15/16\n",
      "44172/44172 [==============================] - 0s 11us/step - loss: 0.1477 - accuracy: 0.9423 - val_loss: 0.1510 - val_accuracy: 0.9396\n",
      "Epoch 16/16\n",
      "44172/44172 [==============================] - 1s 12us/step - loss: 0.1474 - accuracy: 0.9423 - val_loss: 0.1510 - val_accuracy: 0.9396\n"
     ]
    }
   ],
   "source": [
    "print(X_train.shape)\n",
    "print(Y_train.shape)\n",
    "print(\"Before calling the fit() method on model ...\")\n",
    "history = model.fit(X_train, Y_train, validation_split=0.3, epochs=16, batch_size=128)"
   ]
  },
  {
   "cell_type": "code",
   "execution_count": null,
   "metadata": {},
   "outputs": [],
   "source": [
    "#evaluate the model"
   ]
  },
  {
   "cell_type": "code",
   "execution_count": 12,
   "metadata": {},
   "outputs": [
    {
     "name": "stdout",
     "output_type": "stream",
     "text": [
      "64/64 [==============================] - 0s 50us/step\n"
     ]
    }
   ],
   "source": [
    "scores = model.evaluate(X_test, Y_test)"
   ]
  },
  {
   "cell_type": "code",
   "execution_count": 13,
   "metadata": {},
   "outputs": [
    {
     "name": "stdout",
     "output_type": "stream",
     "text": [
      "\n",
      "accuracy: 90.62%\n"
     ]
    }
   ],
   "source": [
    "print(\"\\n%s: %.2f%%\" % (model.metrics_names[1], scores[1]*100))"
   ]
  },
  {
   "cell_type": "code",
   "execution_count": 14,
   "metadata": {},
   "outputs": [
    {
     "name": "stdout",
     "output_type": "stream",
     "text": [
      "<class 'keras.callbacks.callbacks.History'>\n"
     ]
    },
    {
     "data": {
      "image/png": "[encoded data removed]",
      "text/plain": [
       "<IPython.core.display.Image object>"
      ]
     },
     "execution_count": 14,
     "metadata": {},
     "output_type": "execute_result"
    }
   ],
   "source": [
    "print(type(history))\n",
    "plot_model(model, to_file='model.png')"
   ]
  },
  {
   "cell_type": "code",
   "execution_count": 15,
   "metadata": {},
   "outputs": [
    {
     "data": {
      "image/png": "[encoded data removed]",
      "text/plain": [
       "<Figure size 432x288 with 1 Axes>"
      ]
     },
     "metadata": {
      "needs_background": "light"
     },
     "output_type": "display_data"
    }
   ],
   "source": [
    "plt.figure(1)\n",
    "# Plot training & validation accuracy values\n",
    "plt.plot(history.history['accuracy'])\n",
    "plt.plot(history.history['val_accuracy'])\n",
    "plt.title('Model Accuracy')\n",
    "plt.ylabel('Accuracy')\n",
    "plt.xlabel('Epoch')\n",
    "plt.legend(['Train', 'Test'], loc='upper left')\n",
    "plt.show()"
   ]
  },
  {
   "cell_type": "code",
   "execution_count": 16,
   "metadata": {},
   "outputs": [
    {
     "data": {
      "image/png": "[encoded data removed]",
      "text/plain": [
       "<Figure size 432x288 with 1 Axes>"
      ]
     },
     "metadata": {
      "needs_background": "light"
     },
     "output_type": "display_data"
    }
   ],
   "source": [
    "plt.figure(2)\n",
    "# Plot training & validation loss values\n",
    "plt.plot(history.history['loss'])\n",
    "plt.plot(history.history['val_loss'])\n",
    "plt.title('Model Loss')\n",
    "plt.ylabel('Loss')\n",
    "plt.xlabel('Epoch')\n",
    "plt.legend(['Train', 'Test'], loc='upper right')\n",
    "plt.show()"
   ]
  },
  {
   "cell_type": "code",
   "execution_count": 21,
   "metadata": {},
   "outputs": [
    {
     "name": "stdout",
     "output_type": "stream",
     "text": [
      "y_pred_keras.ndim is  :  1\n",
      "Y_test.ndim is   :  2\n",
      "value of y_pred_keras =  [0 0 0 ... 2 2 2]\n",
      "shape of y_pred_keras =  (63167,)\n"
     ]
    }
   ],
   "source": [
    "y_pred_keras = model.predict_classes(XT)\n",
    "print(\"y_pred_keras.ndim is  : \",  y_pred_keras.ndim)\n",
    "print(\"Y_test.ndim is   : \",  Y_test.ndim)\n",
    "print(\"value of y_pred_keras = \", y_pred_keras)\n",
    "print(\"shape of y_pred_keras = \", y_pred_keras.shape)"
   ]
  },
  {
   "cell_type": "code",
   "execution_count": 18,
   "metadata": {},
   "outputs": [],
   "source": [
    "csv = open(\"output.csv\", \"w\")\n",
    "#\"w\" indicates that you're writing strings to the file"
   ]
  },
  {
   "cell_type": "code",
   "execution_count": 77,
   "metadata": {},
   "outputs": [
    {
     "name": "stdout",
     "output_type": "stream",
     "text": [
      "cm   :  2\n",
      "(3, 3)\n",
      "[[    0     0     0]\n",
      " [33599     0     0]\n",
      " [    0 11088  3696]]\n",
      "              precision    recall  f1-score   support\n",
      "\n",
      "           0       0.00      0.00      0.00         0\n",
      "           1       0.00      0.00      0.00     33599\n",
      "           2       0.20      0.25      0.22     14784\n",
      "\n",
      "   micro avg       0.06      0.08      0.07     48383\n",
      "   macro avg       0.07      0.08      0.07     48383\n",
      "weighted avg       0.06      0.08      0.07     48383\n",
      "\n"
     ]
    },
    {
     "name": "stderr",
     "output_type": "stream",
     "text": [
      "/Users/kalyan.subramanian/miniconda3/lib/python3.7/site-packages/sklearn/metrics/_classification.py:1221: UndefinedMetricWarning: Recall and F-score are ill-defined and being set to 0.0 in labels with no true samples. Use `zero_division` parameter to control this behavior.\n",
      "  _warn_prf(average, modifier, msg_start, len(result))\n"
     ]
    }
   ],
   "source": [
    "pd.DataFrame(y_pred_keras).to_csv(\"output.csv\")\n",
    "cm = confusion_matrix(Y, y_pred_keras, labels=[0,1,2])\n",
    "print(\"cm   : \",  cm.ndim)\n",
    "print(cm.shape)\n",
    "print(cm)\n",
    "from sklearn import metrics\n",
    "print(metrics.classification_report(Y, y_pred_keras, labels=[0,1,2]))"
   ]
  },
  {
   "cell_type": "code",
   "execution_count": 71,
   "metadata": {},
   "outputs": [],
   "source": [
    "csv = open(\"input.csv\", \"w\")\n",
    "#\"w\" indicates that you're writing strings to the file"
   ]
  },
  {
   "cell_type": "code",
   "execution_count": 72,
   "metadata": {},
   "outputs": [],
   "source": [
    "pd.DataFrame(XT).to_csv(\"input.csv\")"
   ]
  },
  {
   "cell_type": "code",
   "execution_count": null,
   "metadata": {},
   "outputs": [],
   "source": []
  }
 ],
 "metadata": {
  "kernelspec": {
   "display_name": "Python 3",
   "language": "python",
   "name": "python3"
  },
  "language_info": {
   "codemirror_mode": {
    "name": "ipython",
    "version": 3
   },
   "file_extension": ".py",
   "mimetype": "text/x-python",
   "name": "python",
   "nbconvert_exporter": "python",
   "pygments_lexer": "ipython3",
   "version": "3.7.6"
  }
 },
 "nbformat": 4,
 "nbformat_minor": 2
}
